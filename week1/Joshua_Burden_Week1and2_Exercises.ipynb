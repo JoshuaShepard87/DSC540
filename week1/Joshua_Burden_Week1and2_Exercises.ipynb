{
 "cells": [
  {
   "cell_type": "markdown",
   "metadata": {
    "pycharm": {
     "name": "#%% md\n"
    }
   },
   "source": [
    "# Week 1 & 2 Exercises\n",
    "\n",
    "### Instructions\n",
    "> Create a line chart with Matplotlib and the following data file.\n",
    "- Data file: world-population.xlsm\n",
    "-  (Hint: Python for Data Analysis: Page 19-50 & Data Wrangling with Python: Preface)\n",
    "### Complete the following activities:\n",
    "- Data Wrangling with Python: Activity 1 page 17\n",
    "- Data Wrangling with Python: Activity 2 page 31\n",
    "- Data Wrangling with Python: Activity 3 page 49\n",
    "- Data Wrangling with Python: Activity 4 page 59\n",
    "\n",
    "### Your exercises are due two weeks from Sunday by Midnight of Week 2. Refer to the rubric for more grading detail."
   ]
  },
  {
   "cell_type": "code",
   "execution_count": 2,
   "metadata": {
    "pycharm": {
     "name": "#%%\n"
    },
    "vscode": {
     "languageId": "plaintext"
    }
   },
   "outputs": [],
   "source": [
    "import numpy as np\n",
    "import pandas as pd\n",
    "import matplotlib.pyplot as plt\n",
    "import random\n",
    "import statistics"
   ]
  },
  {
   "cell_type": "code",
   "execution_count": 3,
   "metadata": {
    "pycharm": {
     "name": "#%%\n"
    },
    "vscode": {
     "languageId": "plaintext"
    }
   },
   "outputs": [
    {
     "data": {
      "text/html": [
       "<div>\n",
       "<style scoped>\n",
       "    .dataframe tbody tr th:only-of-type {\n",
       "        vertical-align: middle;\n",
       "    }\n",
       "\n",
       "    .dataframe tbody tr th {\n",
       "        vertical-align: top;\n",
       "    }\n",
       "\n",
       "    .dataframe thead th {\n",
       "        text-align: right;\n",
       "    }\n",
       "</style>\n",
       "<table border=\"1\" class=\"dataframe\">\n",
       "  <thead>\n",
       "    <tr style=\"text-align: right;\">\n",
       "      <th></th>\n",
       "      <th>Year</th>\n",
       "      <th>Population</th>\n",
       "    </tr>\n",
       "  </thead>\n",
       "  <tbody>\n",
       "    <tr>\n",
       "      <th>0</th>\n",
       "      <td>1960</td>\n",
       "      <td>3028654024</td>\n",
       "    </tr>\n",
       "    <tr>\n",
       "      <th>1</th>\n",
       "      <td>1961</td>\n",
       "      <td>3068356747</td>\n",
       "    </tr>\n",
       "    <tr>\n",
       "      <th>2</th>\n",
       "      <td>1962</td>\n",
       "      <td>3121963107</td>\n",
       "    </tr>\n",
       "    <tr>\n",
       "      <th>3</th>\n",
       "      <td>1963</td>\n",
       "      <td>3187471383</td>\n",
       "    </tr>\n",
       "    <tr>\n",
       "      <th>4</th>\n",
       "      <td>1964</td>\n",
       "      <td>3253112403</td>\n",
       "    </tr>\n",
       "  </tbody>\n",
       "</table>\n",
       "</div>"
      ],
      "text/plain": [
       "   Year  Population\n",
       "0  1960  3028654024\n",
       "1  1961  3068356747\n",
       "2  1962  3121963107\n",
       "3  1963  3187471383\n",
       "4  1964  3253112403"
      ]
     },
     "execution_count": 3,
     "metadata": {},
     "output_type": "execute_result"
    }
   ],
   "source": [
    "worldPop = pd.read_excel('http://content.bellevue.edu/cst/dsc/540/id/data-files/12-week/weeks-1-&-2/world-population.xlsm')\n",
    "worldPop.head()"
   ]
  },
  {
   "cell_type": "code",
   "execution_count": 3,
   "metadata": {
    "pycharm": {
     "name": "#%%\n"
    },
    "vscode": {
     "languageId": "plaintext"
    }
   },
   "outputs": [
    {
     "data": {
      "text/plain": [
       "Text(0.5, 1.0, 'World Population Over Time')"
      ]
     },
     "execution_count": 3,
     "metadata": {},
     "output_type": "execute_result"
    },
    {
     "data": {
      "image/png": "[encoded data removed]",
      "text/plain": [
       "<Figure size 432x288 with 1 Axes>"
      ]
     },
     "metadata": {
      "needs_background": "light"
     },
     "output_type": "display_data"
    }
   ],
   "source": [
    "plt.plot(worldPop['Year'], worldPop['Population'])\n",
    "plt.xlabel('Year'), plt.ylabel('Population (log)')\n",
    "plt.title('World Population Over Time')"
   ]
  },
  {
   "cell_type": "markdown",
   "metadata": {
    "pycharm": {
     "name": "#%% md\n"
    }
   },
   "source": [
    "### Data Wrangling with Python: Activity 1: Handling Lists (page 17)\n",
    "> Create a list of 100 random numbers.\n",
    "\n"
   ]
  },
  {
   "cell_type": "code",
   "execution_count": 4,
   "metadata": {
    "pycharm": {
     "name": "#%%\n"
    },
    "vscode": {
     "languageId": "plaintext"
    }
   },
   "outputs": [
    {
     "data": {
      "text/plain": [
       "[33,\n",
       " 85,\n",
       " 1,\n",
       " 64,\n",
       " 19,\n",
       " 43,\n",
       " 12,\n",
       " 50,\n",
       " 19,\n",
       " 14,\n",
       " 36,\n",
       " 85,\n",
       " 14,\n",
       " 33,\n",
       " 15,\n",
       " 74,\n",
       " 20,\n",
       " 14,\n",
       " 84,\n",
       " 41,\n",
       " 50,\n",
       " 64,\n",
       " 57,\n",
       " 40,\n",
       " 81,\n",
       " 22,\n",
       " 30,\n",
       " 30,\n",
       " 46,\n",
       " 29,\n",
       " 58,\n",
       " 4,\n",
       " 16,\n",
       " 38,\n",
       " 92,\n",
       " 8,\n",
       " 78,\n",
       " 85,\n",
       " 65,\n",
       " 3,\n",
       " 9,\n",
       " 62,\n",
       " 33,\n",
       " 35,\n",
       " 77,\n",
       " 88,\n",
       " 45,\n",
       " 48,\n",
       " 94,\n",
       " 64,\n",
       " 77,\n",
       " 73,\n",
       " 81,\n",
       " 41,\n",
       " 59,\n",
       " 40,\n",
       " 6,\n",
       " 32,\n",
       " 50,\n",
       " 27,\n",
       " 76,\n",
       " 20,\n",
       " 75,\n",
       " 60,\n",
       " 41,\n",
       " 81,\n",
       " 64,\n",
       " 16,\n",
       " 76,\n",
       " 33,\n",
       " 52,\n",
       " 8,\n",
       " 23,\n",
       " 65,\n",
       " 64,\n",
       " 36,\n",
       " 84,\n",
       " 34,\n",
       " 96,\n",
       " 72,\n",
       " 66,\n",
       " 10,\n",
       " 30,\n",
       " 44,\n",
       " 87,\n",
       " 86,\n",
       " 84,\n",
       " 92,\n",
       " 23,\n",
       " 45,\n",
       " 22,\n",
       " 92,\n",
       " 22,\n",
       " 22,\n",
       " 20,\n",
       " 17,\n",
       " 36,\n",
       " 18,\n",
       " 35,\n",
       " 78]"
      ]
     },
     "execution_count": 4,
     "metadata": {},
     "output_type": "execute_result"
    }
   ],
   "source": [
    "randomList_1 = [random.randint(0, 99) for x in range (0, 100)]\n",
    "randomList_1"
   ]
  },
  {
   "cell_type": "markdown",
   "metadata": {
    "pycharm": {
     "name": "#%% md\n"
    }
   },
   "source": [
    "### Create a new list \n",
    "> from this random list, with numbers that are divisible by 3."
   ]
  },
  {
   "cell_type": "code",
   "execution_count": 5,
   "metadata": {
    "pycharm": {
     "name": "#%%\n"
    }
   },
   "outputs": [],
   "source": [
    "def CheckDiv3(numList):\n",
    "    newList = []\n",
    "    for i in numList:\n",
    "        if i % 3 == 0:\n",
    "            newList.append(i)\n",
    "    return newList"
   ]
  },
  {
   "cell_type": "code",
   "execution_count": 6,
   "metadata": {
    "pycharm": {
     "name": "#%%\n"
    },
    "vscode": {
     "languageId": "plaintext"
    }
   },
   "outputs": [
    {
     "data": {
      "text/plain": [
       "[33,\n",
       " 12,\n",
       " 36,\n",
       " 33,\n",
       " 15,\n",
       " 84,\n",
       " 57,\n",
       " 81,\n",
       " 30,\n",
       " 30,\n",
       " 78,\n",
       " 3,\n",
       " 9,\n",
       " 33,\n",
       " 45,\n",
       " 48,\n",
       " 81,\n",
       " 6,\n",
       " 27,\n",
       " 75,\n",
       " 60,\n",
       " 81,\n",
       " 33,\n",
       " 36,\n",
       " 84,\n",
       " 96,\n",
       " 72,\n",
       " 66,\n",
       " 30,\n",
       " 87,\n",
       " 84,\n",
       " 45,\n",
       " 36,\n",
       " 18,\n",
       " 78]"
      ]
     },
     "execution_count": 6,
     "metadata": {},
     "output_type": "execute_result"
    }
   ],
   "source": [
    "list1Div3 = CheckDiv3(randomList_1)\n",
    "list1Div3"
   ]
  },
  {
   "cell_type": "markdown",
   "metadata": {
    "pycharm": {
     "name": "#%% md\n"
    }
   },
   "source": [
    "### Calculate the length of these two lists and store the difference in a new variable."
   ]
  },
  {
   "cell_type": "code",
   "execution_count": 7,
   "metadata": {
    "pycharm": {
     "name": "#%%\n"
    }
   },
   "outputs": [
    {
     "data": {
      "text/plain": [
       "65"
      ]
     },
     "execution_count": 7,
     "metadata": {},
     "output_type": "execute_result"
    }
   ],
   "source": [
    "lengthDif_1 = len(randomList_1) - len(list1Div3)\n",
    "lengthDif_1"
   ]
  },
  {
   "cell_type": "markdown",
   "metadata": {
    "pycharm": {
     "name": "#%% md\n"
    }
   },
   "source": [
    "### Using a loop, perform steps 2 and 3 and find the difference variable three times.\n",
    "\n"
   ]
  },
  {
   "cell_type": "code",
   "execution_count": 8,
   "metadata": {
    "pycharm": {
     "name": "#%%\n"
    }
   },
   "outputs": [
    {
     "data": {
      "text/plain": [
       "[65, 69, 62]"
      ]
     },
     "execution_count": 8,
     "metadata": {},
     "output_type": "execute_result"
    }
   ],
   "source": [
    "difference = []\n",
    "for x in range(3):\n",
    "    numList = [random.randint(0, 99) for x in range (0, 100)]\n",
    "    newList = []\n",
    "    for i in numList:\n",
    "        if i % 3 == 0:\n",
    "            newList.append(i)\n",
    "    difference.append(len(numList) - len(newList))\n",
    "difference          "
   ]
  },
  {
   "cell_type": "markdown",
   "metadata": {
    "pycharm": {
     "name": "#%% md\n"
    }
   },
   "source": [
    "### Find the arithmetic mean of these three difference values."
   ]
  },
  {
   "cell_type": "code",
   "execution_count": 1,
   "metadata": {
    "pycharm": {
     "name": "#%%\n"
    }
   },
   "outputs": [
    {
     "ename": "NameError",
     "evalue": "name 'statistics' is not defined",
     "output_type": "error",
     "traceback": [
      "\u001B[0;31m---------------------------------------------------------------------------\u001B[0m",
      "\u001B[0;31mNameError\u001B[0m                                 Traceback (most recent call last)",
      "\u001B[1;32m/Users/joshua/Documents/MastersDegree/DSC540/week1/Joshua_Burden_Week1and2_Exercises.ipynb Cell 15'\u001B[0m in \u001B[0;36m<module>\u001B[0;34m\u001B[0m\n\u001B[0;32m----> <a href='vscode-notebook-cell:/Users/joshua/Documents/MastersDegree/DSC540/week1/Joshua_Burden_Week1and2_Exercises.ipynb#ch0000014?line=0'>1</a>\u001B[0m \u001B[39mround\u001B[39m(statistics\u001B[39m.\u001B[39mmean(difference), \u001B[39m2\u001B[39m)\n",
      "\u001B[0;31mNameError\u001B[0m: name 'statistics' is not defined"
     ]
    }
   ],
   "source": [
    "round(statistics.mean(difference), 2)"
   ]
  },
  {
   "cell_type": "markdown",
   "metadata": {
    "pycharm": {
     "name": "#%% md\n"
    }
   },
   "source": [
    "## Data Wrangling with Python: Activity 2: Analyze a Multiline String and Generate the Unique Word Count (page 31)\n",
    "- Create a multiline_text variable by copying the text from the first chapter of Pride and Prejudice."
   ]
  },
  {
   "cell_type": "markdown",
   "metadata": {
    "pycharm": {
     "name": "#%% md\n"
    }
   },
   "source": [
    "Find the type and length of the multiline_text string using the commands type and len"
   ]
  },
  {
   "cell_type": "markdown",
   "metadata": {
    "pycharm": {
     "name": "#%% md\n"
    }
   },
   "source": [
    "Remove al lnew lines and symbols using the replace function"
   ]
  },
  {
   "cell_type": "markdown",
   "metadata": {
    "pycharm": {
     "name": "#%% md\n"
    }
   },
   "source": [
    "Find all words in multiline_text using the split function"
   ]
  },
  {
   "cell_type": "markdown",
   "metadata": {
    "pycharm": {
     "name": "#%% md\n"
    }
   },
   "source": [
    "Create a list from this list taht will contain only unique words"
   ]
  },
  {
   "cell_type": "markdown",
   "metadata": {
    "pycharm": {
     "name": "#%% md\n"
    }
   },
   "source": [
    "Count the number of times the unique word has appeared in the list using he key and  value in dict"
   ]
  },
  {
   "cell_type": "markdown",
   "metadata": {
    "pycharm": {
     "name": "#%% md\n"
    }
   },
   "source": [
    "Find the top 25 words from the unique words that you have found using the slice function\n",
    "\n",
    "You just created step by step, a unique word counter using all the neat tricks that you learned about in this chapter"
   ]
  },
  {
   "cell_type": "markdown",
   "metadata": {
    "pycharm": {
     "name": "#%% md\n"
    }
   },
   "source": [
    "# Data Wrangling with Python: Activity 3: Permutatioin, Iterator, Lambda, List (page 49)"
   ]
  },
  {
   "cell_type": "markdown",
   "metadata": {
    "pycharm": {
     "name": "#%% md\n"
    }
   },
   "source": [
    "Look up the definitions of permutatoins and dropwhile from itertools"
   ]
  },
  {
   "cell_type": "markdown",
   "metadata": {
    "pycharm": {
     "name": "#%% md\n"
    }
   },
   "source": [
    "Write an expression to generate all the possible three-digit numbesr using 0,1, and 2"
   ]
  },
  {
   "cell_type": "markdown",
   "metadata": {
    "pycharm": {
     "name": "#%% md\n"
    }
   },
   "source": [
    " Loop over the iterator expression you generated before. Print each element that's returned by the iterator. Use assert and isinstance to make sure that the elements are of the tuple type."
   ]
  },
  {
   "cell_type": "markdown",
   "metadata": {
    "pycharm": {
     "name": "#%% md\n"
    }
   },
   "source": [
    "Write the loop again using dropwhile with a lambda expression to drop any leading zeros from the tuples. As an example, (0, 1, 2) will become [0, 2] ([1, 2]?). Also, cast the output of dropwhile to a list"
   ]
  },
  {
   "cell_type": "markdown",
   "metadata": {
    "pycharm": {
     "name": "#%% md\n"
    }
   },
   "source": [
    "Check the actual type that dropwhile returns"
   ]
  },
  {
   "cell_type": "markdown",
   "metadata": {
    "pycharm": {
     "name": "#%% md\n"
    }
   },
   "source": [
    "Combine the preceding code into one block, and this time write a separate function where you will pass the list generated from dropwhile, and the function will return the whole number contained in the list ([1, 2] becomes 12). Make sure that the return type is a number and not a string. Treat the incoming list as a stack in the function and generate the number by reading the individual digits from the stack."
   ]
  },
  {
   "cell_type": "markdown",
   "metadata": {
    "pycharm": {
     "name": "#%% md\n"
    }
   },
   "source": [
    "# Data Wrangling with Python: Activity 4: Design your own CSV Parser (page 59)"
   ]
  },
  {
   "cell_type": "markdown",
   "metadata": {
    "pycharm": {
     "name": "#%% md\n"
    }
   },
   "source": [
    " Import zip_longest from itertools. Create a function to zip header, line, and fillvalue=None."
   ]
  },
  {
   "cell_type": "markdown",
   "metadata": {
    "pycharm": {
     "name": "#%% md\n"
    }
   },
   "source": [
    "Open the accompanying sales_record.csv file from the GitHub link by using r mode inside a with block and first check that it is opened."
   ]
  },
  {
   "cell_type": "markdown",
   "metadata": {
    "pycharm": {
     "name": "#%% md\n"
    }
   },
   "source": [
    "Read the first line and use string methods to generate a list of all the column names."
   ]
  },
  {
   "cell_type": "markdown",
   "metadata": {
    "pycharm": {
     "name": "#%% md\n"
    }
   },
   "source": [
    "Start reading the file. Read it line by line."
   ]
  },
  {
   "cell_type": "code",
   "execution_count": 10,
   "metadata": {
    "collapsed": false,
    "pycharm": {
     "name": "#%%\n"
    }
   },
   "outputs": [
    {
     "name": "stdout",
     "output_type": "stream",
     "text": [
      "9\n"
     ]
    }
   ],
   "source": [
    "print(int(9.9))"
   ]
  },
  {
   "cell_type": "markdown",
   "metadata": {
    "pycharm": {
     "name": "#%% md\n"
    }
   },
   "source": []
  }
 ],
 "metadata": {
  "interpreter": {
   "hash": "2c82f3b82dba446a4782e1c07c5063e74c3e18111461db94b2ddb211d155c26a"
  },
  "kernelspec": {
   "display_name": "Python 3.10.0 ('2022DataScienceBootCamp')",
   "language": "python",
   "name": "python3"
  },
  "language_info": {
   "codemirror_mode": {
    "name": "ipython",
    "version": 3
   },
   "file_extension": ".py",
   "mimetype": "text/x-python",
   "name": "python",
   "nbconvert_exporter": "python",
   "pygments_lexer": "ipython3",
   "version": "3.10.0"
  },
  "orig_nbformat": 4
 },
 "nbformat": 4,
 "nbformat_minor": 2
}