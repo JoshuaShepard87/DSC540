{
 "cells": [
  {
   "cell_type": "markdown",
   "id": "ee0b7f50-172e-4ca5-bdf9-ce02c77c21ce",
   "metadata": {},
   "source": [
    "# Weeks 7 & 8 Milestone #4\n",
    "\n",
    "- Joshua Burden\n",
    "- Bellevue University\n",
    "- DSC540 Data Preparation\n",
    "- Cathrine Williams\n",
    "- 07/31/2022\n"
   ]
  },
  {
   "cell_type": "code",
   "execution_count": 1,
   "id": "f39ab23c-4f4f-45fe-b999-960767f0a815",
   "metadata": {},
   "outputs": [],
   "source": [
    "import requests\n",
    "import os\n",
    "import urllib.request\n",
    "import urllib.parse\n",
    "from urllib.error import HTTPError,URLError\n",
    "from bs4 import BeautifulSoup\n",
    "import json\n",
    "import pandas as pd\n",
    "from matplotlib import pyplot as plt"
   ]
  },
  {
   "cell_type": "code",
   "execution_count": null,
   "id": "eb4662f8-1079-41b8-a191-a427508c8ad5",
   "metadata": {},
   "outputs": [],
   "source": []
  }
 ],
 "metadata": {
  "kernelspec": {
   "display_name": "Python 3 (ipykernel)",
   "language": "python",
   "name": "python3"
  },
  "language_info": {
   "codemirror_mode": {
    "name": "ipython",
    "version": 3
   },
   "file_extension": ".py",
   "mimetype": "text/x-python",
   "name": "python",
   "nbconvert_exporter": "python",
   "pygments_lexer": "ipython3",
   "version": "3.9.7"
  }
 },
 "nbformat": 4,
 "nbformat_minor": 5
}
