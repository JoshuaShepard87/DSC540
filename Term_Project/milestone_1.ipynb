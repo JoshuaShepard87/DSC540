{
 "cells": [
  {
   "cell_type": "markdown",
   "source": [
    "# Milestone 1"
   ],
   "metadata": {
    "collapsed": false,
    "pycharm": {
     "name": "#%% md\n"
    }
   }
  },
  {
   "cell_type": "markdown",
   "source": [
    "### Instructions\n",
    "\n",
    "For this first milestone, you need to submit the following:\n",
    "1. 3 data sources, along with a description of each one (links to each are fine, no need to submit the actual data)\n",
    "2. The relationships between them, or the relationship you will make between them\n",
    "3. What you believe you will have to do to the data to accomplish all 5 milestones and what your interpretation is of what the data means (you could provide a data dictionary or a summary of what the data is) – should be at least 250 words\n",
    "4. Project Subject Area: Describe your project in 1-2 sentences\n",
    "\n",
    "5. ### Data Sources:\n",
    "> Flat File:\n",
    "- Description\n",
    "- Link or Flat File uploaded\n",
    "\n",
    "5. Relationships\n",
    "6. Describe how the data from each source is connected (see example below).\n",
    "7. If there isn't an obvious relationship, explain how you will make one\n",
    "8. 250 Words describing how you plan to tackle the project, what the data means, the ethical implications of your project scenario/topic, and what challenges you might face.\n",
    "### Submit via a PDF to the assignment link."
   ],
   "metadata": {
    "collapsed": false,
    "pycharm": {
     "name": "#%% md\n"
    }
   }
  },
  {
   "cell_type": "code",
   "execution_count": 1,
   "metadata": {
    "collapsed": true,
    "pycharm": {
     "name": "#%%\n"
    }
   },
   "outputs": [
    {
     "name": "stdout",
     "output_type": "stream",
     "text": [
      "Hello World\n"
     ]
    }
   ],
   "source": [
    "print(\"Hello World\")"
   ]
  }
 ],
 "metadata": {
  "kernelspec": {
   "display_name": "Python 3",
   "language": "python",
   "name": "python3"
  },
  "language_info": {
   "codemirror_mode": {
    "name": "ipython",
    "version": 2
   },
   "file_extension": ".py",
   "mimetype": "text/x-python",
   "name": "python",
   "nbconvert_exporter": "python",
   "pygments_lexer": "ipython2",
   "version": "2.7.6"
  }
 },
 "nbformat": 4,
 "nbformat_minor": 0
}