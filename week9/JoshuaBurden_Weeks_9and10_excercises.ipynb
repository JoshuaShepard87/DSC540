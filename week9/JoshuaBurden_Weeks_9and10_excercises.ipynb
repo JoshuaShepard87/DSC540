{
 "cells": [
  {
   "cell_type": "markdown",
   "id": "671ab7e9-f8ee-4835-a140-cbb19049bc8b",
   "metadata": {},
   "source": [
    "# Weeks 9 & 10\n",
    "\n",
    "- Joshua Burden\n",
    "- Bellevue University\n",
    "- DSC540 Data Preparation\n",
    "- Cathrine Williams\n",
    "- 08/07/2022\n",
    "\n",
    "\n",
    "### Complete the following exercises. You can submit a Jupyter Notebook or a PDF of your code. If you submit a .py file you need to also include a PDF or attachment of your results.\n"
   ]
  },
  {
   "cell_type": "markdown",
   "id": "2cc9e3b7-cd98-48aa-80ad-2668c5434e44",
   "metadata": {},
   "source": [
    "# Task 1: (Connect to the supplied petsDB, and write a function to check if the connection is done)\n",
    "# Retrieving Data Correctly from databases"
   ]
  },
  {
   "cell_type": "code",
   "execution_count": 6,
   "id": "ee4986f4-e8be-4224-99df-b8920331c8c2",
   "metadata": {},
   "outputs": [],
   "source": [
    "# Step 1: Connect to petsdb and check if connection is successful\n",
    "import sqlite3\n",
    "conn = sqlite3.connect('petsdb')"
   ]
  },
  {
   "cell_type": "code",
   "execution_count": 7,
   "id": "04932bb7-0269-4929-adf4-56d21be6bba7",
   "metadata": {},
   "outputs": [
    {
     "name": "stdout",
     "output_type": "stream",
     "text": [
      "Database connection good ? True\n"
     ]
    }
   ],
   "source": [
    "# function to check if connection is successful\n",
    "def connection_status(conn):\n",
    "    try:\n",
    "        conn.execute(\"SELECT 1 FROM persons\")\n",
    "        return True\n",
    "    except sqlite3.ProgrammingError as e:\n",
    "        print(\"Connection is Closed-\",e)\n",
    "        return False\n",
    "    except Exception as e:\n",
    "        print(\"Other Error-\",e)\n",
    "        return False\n",
    "\n",
    "print(\"Database connection good ?\",connection_status(conn))"
   ]
  },
  {
   "cell_type": "markdown",
   "id": "a83cbffe-face-480b-85d0-7a6541da9b25",
   "metadata": {},
   "source": [
    "# Task 2: (What are the different age groups in the persons database)"
   ]
  },
  {
   "cell_type": "markdown",
   "id": "da86198a-6438-4a63-b8b7-999ba8d8eb94",
   "metadata": {},
   "source": [
    "### Checking all the tables in the db"
   ]
  },
  {
   "cell_type": "code",
   "execution_count": 12,
   "id": "27e44fc7-36eb-4c36-9fe9-b732083a20cf",
   "metadata": {},
   "outputs": [
    {
     "name": "stdout",
     "output_type": "stream",
     "text": [
      "[('persons',), ('pets',)]\n"
     ]
    }
   ],
   "source": [
    "cursor = conn.cursor()\n",
    "cursor.execute(\"SELECT name FROM sqlite_master WHERE type='table';\")\n",
    "print(cursor.fetchall())"
   ]
  },
  {
   "cell_type": "markdown",
   "id": "44018068-77b1-44d1-a04b-48283ed4660d",
   "metadata": {
    "tags": []
   },
   "source": [
    "### Checking table structure and data types - persons"
   ]
  },
  {
   "cell_type": "code",
   "execution_count": 13,
   "id": "8f225504-760a-403b-9b64-6f9c815637e3",
   "metadata": {},
   "outputs": [
    {
     "name": "stdout",
     "output_type": "stream",
     "text": [
      "[(0, 'id', 'INTEGER', 0, None, 0), (1, 'first_name', 'TEXT', 0, None, 0), (2, 'last_name', 'TEXT', 0, None, 0), (3, 'age', 'INTEGER', 0, None, 0), (4, 'city', 'TEXT', 0, None, 0), (5, 'zip_code', 'INTEGER', 0, None, 0)]\n"
     ]
    }
   ],
   "source": [
    "cursor.execute(\"PRAGMA table_info([persons])\")\n",
    "print(cursor.fetchall())"
   ]
  },
  {
   "cell_type": "markdown",
   "id": "d1fcd310-5a06-497e-8a8f-112393c36bd0",
   "metadata": {},
   "source": [
    "### Checking table structure and data types - pets"
   ]
  },
  {
   "cell_type": "code",
   "execution_count": 14,
   "id": "d5c1f789-2b8a-43af-96a0-9feef5bb30e5",
   "metadata": {},
   "outputs": [
    {
     "name": "stdout",
     "output_type": "stream",
     "text": [
      "[(0, 'owner_id', 'INTEGER', 0, None, 0), (1, 'pet_name', 'TEXT', 0, None, 0), (2, 'pet_type', 'REAL', 0, None, 0), (3, 'treatment_done', 'INTEGER', 0, None, 0)]\n"
     ]
    }
   ],
   "source": [
    "cursor.execute(\"PRAGMA table_info([pets])\")\n",
    "print(cursor.fetchall())"
   ]
  },
  {
   "cell_type": "markdown",
   "id": "fe75966a-2a09-40a4-8da2-2ac7fec74b85",
   "metadata": {},
   "source": [
    "### Step 2: Find the different age groups in the persons database"
   ]
  },
  {
   "cell_type": "code",
   "execution_count": 20,
   "id": "3fffde57-2569-4923-9917-2548c33420d8",
   "metadata": {},
   "outputs": [
    {
     "name": "stdout",
     "output_type": "stream",
     "text": [
      "There are 2 people within the age of 5\n",
      "There are 1 people within the age of 6\n",
      "There are 1 people within the age of 7\n",
      "There are 3 people within the age of 8\n",
      "There are 1 people within the age of 9\n",
      "There are 2 people within the age of 11\n",
      "There are 3 people within the age of 12\n",
      "There are 1 people within the age of 13\n",
      "There are 4 people within the age of 14\n",
      "There are 2 people within the age of 16\n",
      "There are 2 people within the age of 17\n",
      "There are 3 people within the age of 18\n",
      "There are 1 people within the age of 19\n",
      "There are 3 people within the age of 22\n",
      "There are 2 people within the age of 23\n",
      "There are 3 people within the age of 24\n",
      "There are 2 people within the age of 25\n",
      "There are 1 people within the age of 27\n",
      "There are 1 people within the age of 30\n",
      "There are 3 people within the age of 31\n",
      "There are 1 people within the age of 32\n",
      "There are 1 people within the age of 33\n",
      "There are 2 people within the age of 34\n",
      "There are 3 people within the age of 35\n",
      "There are 3 people within the age of 36\n",
      "There are 1 people within the age of 37\n",
      "There are 2 people within the age of 39\n",
      "There are 1 people within the age of 40\n",
      "There are 1 people within the age of 42\n",
      "There are 2 people within the age of 44\n",
      "There are 2 people within the age of 48\n",
      "There are 1 people within the age of 49\n",
      "There are 1 people within the age of 50\n",
      "There are 2 people within the age of 51\n",
      "There are 2 people within the age of 52\n",
      "There are 2 people within the age of 53\n",
      "There are 2 people within the age of 54\n",
      "There are 1 people within the age of 58\n",
      "There are 1 people within the age of 59\n",
      "There are 1 people within the age of 60\n",
      "There are 1 people within the age of 61\n",
      "There are 2 people within the age of 62\n",
      "There are 1 people within the age of 63\n",
      "There are 2 people within the age of 65\n",
      "There are 2 people within the age of 66\n",
      "There are 1 people within the age of 67\n",
      "There are 3 people within the age of 68\n",
      "There are 1 people within the age of 69\n",
      "There are 1 people within the age of 70\n",
      "There are 4 people within the age of 71\n",
      "There are 1 people within the age of 72\n",
      "There are 5 people within the age of 73\n",
      "There are 3 people within the age of 74\n"
     ]
    }
   ],
   "source": [
    "for pplCnt, ageGroup in cursor.execute(\"SELECT count(*), age FROM persons GROUP BY age\"):\n",
    "    print(\"There are {} people within the age of {}\".format(pplCnt,ageGroup))\n"
   ]
  },
  {
   "cell_type": "markdown",
   "id": "4ddaefbc-3cbc-41cc-b385-983485cdd654",
   "metadata": {},
   "source": [
    "### Step 3: Find the age group that has maximum number of people\n"
   ]
  },
  {
   "cell_type": "markdown",
   "id": "f7462e3f-bc58-4c82-b7b7-4a71b19b568a",
   "metadata": {},
   "source": [
    "### ordering the above query by descending count. So the top will be the max\n"
   ]
  },
  {
   "cell_type": "code",
   "execution_count": 21,
   "id": "1472bcc5-97a1-4adc-8fab-e21876ce2aae",
   "metadata": {},
   "outputs": [
    {
     "name": "stdout",
     "output_type": "stream",
     "text": [
      "Highest number of people 5 came from 73 age group\n"
     ]
    }
   ],
   "source": [
    "for pplCnt, ageGroup in cursor.execute(\"SELECT count(*), age FROM persons GROUP BY age ORDER BY count(*) DESC\"):\n",
    "    print(\"Highest number of people {} came from {} age group\".format(pplCnt,ageGroup))\n",
    "    break\n"
   ]
  },
  {
   "cell_type": "markdown",
   "id": "70614d74-b30d-42c4-9938-0bc421931e9b",
   "metadata": {},
   "source": [
    "### Step 4: Find the people who do not have last name"
   ]
  },
  {
   "cell_type": "markdown",
   "id": "3906851d-4d5f-4130-a3ac-ffbcc4cf0b2d",
   "metadata": {},
   "source": [
    "### Count of people who do not have last name"
   ]
  },
  {
   "cell_type": "code",
   "execution_count": 22,
   "id": "63b32df2-3b64-4ef9-9683-e1f119f26b34",
   "metadata": {},
   "outputs": [
    {
     "name": "stdout",
     "output_type": "stream",
     "text": [
      "People Count with No Last Name -  (60,)\n"
     ]
    }
   ],
   "source": [
    "for result in cursor.execute(\"SELECT count(*) FROM persons where last_name is null\"):\n",
    "    print(\"People Count with No Last Name - \",result)\n",
    "    break"
   ]
  },
  {
   "cell_type": "markdown",
   "id": "40ff555b-d621-456a-95a1-5bab39ab30c5",
   "metadata": {
    "tags": []
   },
   "source": [
    "### First name of people with no last name"
   ]
  },
  {
   "cell_type": "code",
   "execution_count": 24,
   "id": "7294bbc0-1d22-4780-822d-149d65e019ef",
   "metadata": {},
   "outputs": [
    {
     "name": "stdout",
     "output_type": "stream",
     "text": [
      "First Names of people with No Last Name -  ('Erica',)\n",
      "First Names of people with No Last Name -  ('Jordi',)\n",
      "First Names of people with No Last Name -  ('Chasity',)\n",
      "First Names of people with No Last Name -  ('Gregg',)\n",
      "First Names of people with No Last Name -  ('Cary',)\n",
      "First Names of people with No Last Name -  ('Francisca',)\n",
      "First Names of people with No Last Name -  ('Raleigh',)\n",
      "First Names of people with No Last Name -  ('Maria',)\n",
      "First Names of people with No Last Name -  ('Mariane',)\n",
      "First Names of people with No Last Name -  ('Mona',)\n",
      "First Names of people with No Last Name -  ('Kayla',)\n",
      "First Names of people with No Last Name -  ('Karlie',)\n",
      "First Names of people with No Last Name -  ('Morris',)\n",
      "First Names of people with No Last Name -  ('Sandy',)\n",
      "First Names of people with No Last Name -  ('Hector',)\n",
      "First Names of people with No Last Name -  ('Hiram',)\n",
      "First Names of people with No Last Name -  ('Tressa',)\n",
      "First Names of people with No Last Name -  ('Berry',)\n",
      "First Names of people with No Last Name -  ('Pearline',)\n",
      "First Names of people with No Last Name -  ('Maynard',)\n",
      "First Names of people with No Last Name -  ('Dorian',)\n",
      "First Names of people with No Last Name -  ('Mylene',)\n",
      "First Names of people with No Last Name -  ('Lafayette',)\n",
      "First Names of people with No Last Name -  ('Tara',)\n",
      "First Names of people with No Last Name -  ('Destiny',)\n",
      "First Names of people with No Last Name -  ('Lesly',)\n",
      "First Names of people with No Last Name -  ('Perry',)\n",
      "First Names of people with No Last Name -  ('Maritza',)\n",
      "First Names of people with No Last Name -  ('Grant',)\n",
      "First Names of people with No Last Name -  ('Laury',)\n",
      "First Names of people with No Last Name -  ('Name',)\n",
      "First Names of people with No Last Name -  ('Estefania',)\n",
      "First Names of people with No Last Name -  ('Destiney',)\n",
      "First Names of people with No Last Name -  ('Jaquelin',)\n",
      "First Names of people with No Last Name -  ('Alfonzo',)\n",
      "First Names of people with No Last Name -  ('Lisandro',)\n",
      "First Names of people with No Last Name -  ('Priscilla',)\n",
      "First Names of people with No Last Name -  ('Elenora',)\n",
      "First Names of people with No Last Name -  ('Rudolph',)\n",
      "First Names of people with No Last Name -  ('Ona',)\n",
      "First Names of people with No Last Name -  ('Rebeca',)\n",
      "First Names of people with No Last Name -  ('Sigurd',)\n",
      "First Names of people with No Last Name -  ('Alice',)\n",
      "First Names of people with No Last Name -  ('Dane',)\n",
      "First Names of people with No Last Name -  ('Judge',)\n",
      "First Names of people with No Last Name -  ('Allene',)\n",
      "First Names of people with No Last Name -  ('Jalen',)\n",
      "First Names of people with No Last Name -  ('Myron',)\n",
      "First Names of people with No Last Name -  ('Travon',)\n",
      "First Names of people with No Last Name -  ('Shayna',)\n",
      "First Names of people with No Last Name -  ('Myah',)\n",
      "First Names of people with No Last Name -  ('Letha',)\n",
      "First Names of people with No Last Name -  ('Felton',)\n",
      "First Names of people with No Last Name -  ('London',)\n",
      "First Names of people with No Last Name -  ('Koby',)\n",
      "First Names of people with No Last Name -  ('Golden',)\n",
      "First Names of people with No Last Name -  ('Anissa',)\n",
      "First Names of people with No Last Name -  ('Sid',)\n",
      "First Names of people with No Last Name -  ('Ernesto',)\n",
      "First Names of people with No Last Name -  ('Josianne',)\n"
     ]
    }
   ],
   "source": [
    "for result in cursor.execute(\"SELECT first_name FROM persons where last_name is null\"):\n",
    "    print(\"First Names of people with No Last Name - \",result)"
   ]
  },
  {
   "cell_type": "markdown",
   "id": "b7ec7cbd-ac2e-49a5-95a7-9ac8e0e9a359",
   "metadata": {},
   "source": [
    "### Step 5: Find people who have more than one pet\n",
    "### This is all counts of pets for > 1"
   ]
  },
  {
   "cell_type": "code",
   "execution_count": 25,
   "id": "aa16ab67-74c1-4d3b-9867-a79c1a2d2223",
   "metadata": {},
   "outputs": [
    {
     "name": "stdout",
     "output_type": "stream",
     "text": [
      "[(3,), (3,), (2,), (3,), (2,), (3,), (2,), (2,), (2,), (2,), (2,), (3,), (2,), (3,), (2,), (5,), (2,), (2,), (3,), (3,), (3,), (4,), (2,), (2,), (4,), (3,), (3,), (2,), (2,), (2,), (3,), (3,), (2,), (5,), (3,), (2,), (3,), (3,), (2,), (2,), (3,), (3,), (2,)]\n"
     ]
    }
   ],
   "source": [
    "cursor.execute(\"SELECT count(owner_id) FROM  pets GROUP BY owner_id HAVING count(owner_id) > 1\")\n",
    "print(cursor.fetchall())"
   ]
  },
  {
   "cell_type": "markdown",
   "id": "86e5a881-fca2-4792-a871-843edd6c847f",
   "metadata": {},
   "source": [
    "### add up all the results from previous query\n"
   ]
  },
  {
   "cell_type": "code",
   "execution_count": 26,
   "id": "82b45ec2-5343-49d9-a44b-ee037cc17ba5",
   "metadata": {},
   "outputs": [
    {
     "name": "stdout",
     "output_type": "stream",
     "text": [
      "People Count with more than 1 PET - (43,)\n"
     ]
    }
   ],
   "source": [
    "for result in cursor.execute(\"SELECT count(*) FROM (SELECT count(owner_id) FROM  pets GROUP BY owner_id HAVING count(owner_id) > 1)\"):\n",
    "    print(\"People Count with more than 1 PET -\", result)\n",
    "    break"
   ]
  },
  {
   "cell_type": "markdown",
   "id": "6997bd95-166f-4432-8fe3-7c543c4a738b",
   "metadata": {},
   "source": [
    "### Step 6: Find out how many pets have recieved treatments\n",
    "### checking distinct values of treatment_done column"
   ]
  },
  {
   "cell_type": "code",
   "execution_count": 38,
   "id": "41544a3e-1661-43b8-a375-3e1af889a286",
   "metadata": {},
   "outputs": [
    {
     "name": "stdout",
     "output_type": "stream",
     "text": [
      "[(0,), (1,)]\n"
     ]
    }
   ],
   "source": [
    "cursor.execute(\"SELECT DISTINCT(treatment_done) FROM pets\")\n",
    "print(cursor.fetchall())"
   ]
  },
  {
   "cell_type": "markdown",
   "id": "33925212-d5e2-45e4-94e0-29a2b3a73837",
   "metadata": {},
   "source": [
    "### based on answer from above query assuming treatment_done =1  means treatment has been done"
   ]
  },
  {
   "cell_type": "code",
   "execution_count": 40,
   "id": "efd22eec-1390-49a6-a9bd-a9556c289cee",
   "metadata": {},
   "outputs": [
    {
     "name": "stdout",
     "output_type": "stream",
     "text": [
      "Count of Pets with treatment - (36,)\n"
     ]
    }
   ],
   "source": [
    "for result in cursor.execute(\"SELECT count(*) FROM pets WHERE treatment_done=1\"):\n",
    "    print(\"Count of Pets with treatment -\", result)\n",
    "    break"
   ]
  },
  {
   "cell_type": "markdown",
   "id": "37bb8df4-23d5-44a0-8d3b-fbd6601edaa8",
   "metadata": {},
   "source": [
    "### Step 7: Find out how many pets have recieved treatments and the type of pet is known"
   ]
  },
  {
   "cell_type": "markdown",
   "id": "1af87dd5-15da-461d-8616-78a4b35fbd0e",
   "metadata": {},
   "source": [
    "### adding additional where clause for pet type not null\n"
   ]
  },
  {
   "cell_type": "code",
   "execution_count": 41,
   "id": "99391bc4-26a2-413b-8f42-2f6aaf8da192",
   "metadata": {},
   "outputs": [
    {
     "name": "stdout",
     "output_type": "stream",
     "text": [
      "Count of Pets with treatment - (16,)\n"
     ]
    }
   ],
   "source": [
    "for result in cursor.execute(\"SELECT count(*) FROM pets WHERE treatment_done=1 AND pet_type is not null\"):\n",
    "    print(\"Count of Pets with treatment -\", result)\n",
    "    break"
   ]
  },
  {
   "cell_type": "markdown",
   "id": "36a46540-ac78-4cb6-a8c1-2077b1db768b",
   "metadata": {},
   "source": [
    "### Step 8: Find out how many pets are from the city call east port\n"
   ]
  },
  {
   "cell_type": "markdown",
   "id": "e1177ed0-37e4-419c-9514-ef95420b0f7e",
   "metadata": {},
   "source": [
    "### we will need to join the table from person as city information is available in owners data\n"
   ]
  },
  {
   "cell_type": "code",
   "execution_count": 42,
   "id": "0aae75ab-3b90-4c02-8d78-dcdaf16c85f6",
   "metadata": {},
   "outputs": [
    {
     "name": "stdout",
     "output_type": "stream",
     "text": [
      "Count of Pets from east port - (49,)\n"
     ]
    }
   ],
   "source": [
    "for result in cursor.execute(\"SELECT count(*) FROM pets JOIN persons ON pets.owner_id = persons.id where persons.city='east port'\"):\n",
    "    print(\"Count of Pets from east port -\", result)\n",
    "    break"
   ]
  },
  {
   "cell_type": "markdown",
   "id": "e2d86461-b611-48a7-9bd8-ae4bfa153e7f",
   "metadata": {},
   "source": [
    "### Step 9: Find out how many pets are from the city call east port and who recieved a treatment\n"
   ]
  },
  {
   "cell_type": "markdown",
   "id": "cae6316b-b9d8-4dd7-b2e4-e878b72b96e0",
   "metadata": {},
   "source": [
    "### adding check for pets.treatment_done = 1 to the above query\n"
   ]
  },
  {
   "cell_type": "code",
   "execution_count": 43,
   "id": "ddd5dbf5-79fa-43e5-9fe7-ac64e1da682c",
   "metadata": {},
   "outputs": [
    {
     "name": "stdout",
     "output_type": "stream",
     "text": [
      "Count of Pets from east port - (11,)\n"
     ]
    }
   ],
   "source": [
    "for result in cursor.execute(\"SELECT count(*) FROM pets JOIN persons ON pets.owner_id = persons.id where persons.city='east port' AND pets.treatment_done=1\"):\n",
    "    print(\"Count of Pets from east port -\", result)\n",
    "    break"
   ]
  },
  {
   "cell_type": "code",
   "execution_count": null,
   "id": "14ddea51-7c93-4a1a-9bb7-3c85ade43349",
   "metadata": {},
   "outputs": [],
   "source": []
  }
 ],
 "metadata": {
  "kernelspec": {
   "display_name": "Python 3 (ipykernel)",
   "language": "python",
   "name": "python3"
  },
  "language_info": {
   "codemirror_mode": {
    "name": "ipython",
    "version": 3
   },
   "file_extension": ".py",
   "mimetype": "text/x-python",
   "name": "python",
   "nbconvert_exporter": "python",
   "pygments_lexer": "ipython3",
   "version": "3.9.7"
  }
 },
 "nbformat": 4,
 "nbformat_minor": 5
}
